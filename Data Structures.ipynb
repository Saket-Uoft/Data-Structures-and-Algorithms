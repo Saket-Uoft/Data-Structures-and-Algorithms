{
 "cells": [
  {
   "cell_type": "markdown",
   "metadata": {},
   "source": [
    "### Swapping First and Last Element of List"
   ]
  },
  {
   "cell_type": "code",
   "execution_count": 6,
   "metadata": {},
   "outputs": [
    {
     "data": {
      "text/plain": [
       "[50, 20, 30, 40, 10]"
      ]
     },
     "execution_count": 6,
     "metadata": {},
     "output_type": "execute_result"
    }
   ],
   "source": [
    "def swaplist(list1):\n",
    "    a=list1[0]\n",
    "    list1[0]=list1[-1]\n",
    "    list1[-1]=a\n",
    "    return list1\n",
    "\n",
    "l=[10,20,30,40,50]\n",
    "swaplist(l)"
   ]
  },
  {
   "cell_type": "code",
   "execution_count": 11,
   "metadata": {},
   "outputs": [
    {
     "data": {
      "text/plain": [
       "[5, 2, 3, 4, 1]"
      ]
     },
     "execution_count": 11,
     "metadata": {},
     "output_type": "execute_result"
    }
   ],
   "source": [
    "def swaplist2(l):\n",
    "    l[0],l[-1]=l[-1],l[0]\n",
    "    return l\n",
    "l=[1,2,3,4,5]\n",
    "swaplist2(l)"
   ]
  },
  {
   "cell_type": "markdown",
   "metadata": {},
   "source": [
    "### Python program to remove Nth occurrence of the given word"
   ]
  },
  {
   "cell_type": "code",
   "execution_count": 420,
   "metadata": {},
   "outputs": [
    {
     "data": {
      "text/plain": [
       "['can', 'you', 'can', 'a', 'can']"
      ]
     },
     "execution_count": 420,
     "metadata": {},
     "output_type": "execute_result"
    }
   ],
   "source": [
    "l=[\"can\", \"you\",  \"can\", \"a\", \"can\",\"?\"]\n",
    "#word = can, N = 1\n",
    "def remove(l,word,N):\n",
    "    c=0\n",
    "    newlist=[]\n",
    "    for i in l:\n",
    "        if i==word:\n",
    "            c=c+1\n",
    "            if (c!=N):\n",
    "                newlist.append(i)\n",
    "        else: \n",
    "            newlist.append(i)\n",
    "    return newlist\n",
    "remove(l,\"?\",1)           "
   ]
  },
  {
   "cell_type": "markdown",
   "metadata": {},
   "source": [
    "### Reverse a String"
   ]
  },
  {
   "cell_type": "code",
   "execution_count": 31,
   "metadata": {},
   "outputs": [
    {
     "data": {
      "text/plain": [
       "['code', 'practice', 'quiz', 'geeks']"
      ]
     },
     "execution_count": 31,
     "metadata": {},
     "output_type": "execute_result"
    }
   ],
   "source": [
    "str = \"geeks quiz practice code\"\n",
    "str.split(' ')[::-1]"
   ]
  },
  {
   "cell_type": "markdown",
   "metadata": {},
   "source": [
    "### Check Palindrome"
   ]
  },
  {
   "cell_type": "code",
   "execution_count": 39,
   "metadata": {},
   "outputs": [
    {
     "name": "stdout",
     "output_type": "stream",
     "text": [
      "It is a Plaindrome\n"
     ]
    }
   ],
   "source": [
    "s=\"malayalam\"\n",
    "def palindrome(s):\n",
    "    if s==s[::-1]:\n",
    "        print(\"It is a Plaindrome\")\n",
    "    else:\n",
    "        print(\"Not a Palindrome\")\n",
    "palindrome(s)        "
   ]
  },
  {
   "cell_type": "markdown",
   "metadata": {},
   "source": [
    "### Check if a String in Present "
   ]
  },
  {
   "cell_type": "code",
   "execution_count": 49,
   "metadata": {},
   "outputs": [
    {
     "name": "stdout",
     "output_type": "stream",
     "text": [
      "Yes\n"
     ]
    }
   ],
   "source": [
    "s1 = \"geeks\" \n",
    "s2=\"geeks for geeks\"\n",
    "\n",
    "def check(s1,s2):\n",
    "    if s1 in s2:\n",
    "        print(\"Yes\")\n",
    "    else:\n",
    "        print(\"No\")\n",
    "check(s1,s2)        "
   ]
  },
  {
   "cell_type": "markdown",
   "metadata": {},
   "source": [
    "### Find Length of a String In 4 ways"
   ]
  },
  {
   "cell_type": "code",
   "execution_count": 52,
   "metadata": {},
   "outputs": [
    {
     "name": "stdout",
     "output_type": "stream",
     "text": [
      "4\n",
      "4\n"
     ]
    }
   ],
   "source": [
    "s=\"isha\"\n",
    "print(len(s))\n",
    "c=0\n",
    "for i in s:\n",
    "    c=c+1\n",
    "print(c)    "
   ]
  },
  {
   "cell_type": "markdown",
   "metadata": {},
   "source": [
    "### Python program to print even length words in a string"
   ]
  },
  {
   "cell_type": "code",
   "execution_count": 61,
   "metadata": {},
   "outputs": [
    {
     "data": {
      "text/plain": [
       "'love Isha your my everything in this life'"
      ]
     },
     "execution_count": 61,
     "metadata": {},
     "output_type": "execute_result"
    }
   ],
   "source": [
    "s = \"I love you Isha your are my everything in this life\"\n",
    "def even(s):\n",
    "    m=[]\n",
    "    l=s.split(' ')\n",
    "    for words in l:\n",
    "        if len(words)%2==0:\n",
    "            m.append(words)\n",
    "    m=(' ').join(m)       \n",
    "    return m       \n",
    "even(s)            "
   ]
  },
  {
   "cell_type": "markdown",
   "metadata": {},
   "source": [
    "### Program to accept the strings which contains all vowels"
   ]
  },
  {
   "cell_type": "code",
   "execution_count": 195,
   "metadata": {},
   "outputs": [],
   "source": [
    "s=\"ABeeIghiObhl\"\n",
    "vowels=['a','e','i','o','u']\n",
    "def check_vowels(s):\n",
    "    c=0\n",
    "    s=s.lower()\n",
    "    s=list(s)\n",
    "    x=[c + 1 for i in vowels if i in s]\n",
    "    if len(x)==len(vowels):  \n",
    "        print(\"Accepted\")\n",
    "    else:\n",
    "        print(\"Not Accepted\")\n",
    "        "
   ]
  },
  {
   "cell_type": "code",
   "execution_count": 196,
   "metadata": {},
   "outputs": [
    {
     "name": "stdout",
     "output_type": "stream",
     "text": [
      "Not Accepted\n"
     ]
    }
   ],
   "source": [
    "check_vowels(s)"
   ]
  },
  {
   "cell_type": "markdown",
   "metadata": {},
   "source": [
    "### Count Number of Matching Characters"
   ]
  },
  {
   "cell_type": "code",
   "execution_count": 96,
   "metadata": {},
   "outputs": [
    {
     "data": {
      "text/plain": [
       "1"
      ]
     },
     "execution_count": 96,
     "metadata": {},
     "output_type": "execute_result"
    }
   ],
   "source": [
    "str1 = 'abcdef'\n",
    "str2 = 'isha'\n",
    "len(set(str1).intersection(set(str2)))"
   ]
  },
  {
   "cell_type": "markdown",
   "metadata": {},
   "source": [
    "### Sieve of Eratosthenes to Count Primes"
   ]
  },
  {
   "cell_type": "code",
   "execution_count": 77,
   "metadata": {},
   "outputs": [
    {
     "data": {
      "text/plain": [
       "[2, 3, 5, 7, 11, 13, 17, 19, 23, 29, 31, 37, 41, 43, 47]"
      ]
     },
     "execution_count": 77,
     "metadata": {},
     "output_type": "execute_result"
    }
   ],
   "source": [
    "N=50\n",
    "prime=[True for i in range(N)]\n",
    "\n",
    "for i in range(2,int(N**(0.5)+1)):\n",
    "    if prime[i]==True:\n",
    "        j=i\n",
    "        while i*j<N:\n",
    "            prime[i*j]=False\n",
    "            j=j+1\n",
    "final=[i for i,w in enumerate(prime) if w==True]\n",
    "final [2:]          "
   ]
  },
  {
   "cell_type": "code",
   "execution_count": 67,
   "metadata": {},
   "outputs": [
    {
     "data": {
      "text/plain": [
       "[True, True, True, True, True]"
      ]
     },
     "execution_count": 67,
     "metadata": {},
     "output_type": "execute_result"
    }
   ],
   "source": [
    "prime"
   ]
  },
  {
   "cell_type": "code",
   "execution_count": 41,
   "metadata": {},
   "outputs": [
    {
     "data": {
      "text/plain": [
       "[2, 3, 5, 7, 11, 13, 17, 19]"
      ]
     },
     "execution_count": 41,
     "metadata": {},
     "output_type": "execute_result"
    }
   ],
   "source": [
    "final=[i for i,w in enumerate(prime) if w==True]\n",
    "final[2:]"
   ]
  },
  {
   "cell_type": "code",
   "execution_count": 39,
   "metadata": {},
   "outputs": [
    {
     "name": "stdout",
     "output_type": "stream",
     "text": [
      "0 True\n",
      "1 True\n",
      "2 True\n",
      "3 True\n",
      "4 False\n",
      "5 True\n",
      "6 False\n",
      "7 True\n",
      "8 False\n",
      "9 False\n",
      "10 False\n",
      "11 True\n",
      "12 False\n",
      "13 True\n",
      "14 False\n",
      "15 False\n",
      "16 False\n",
      "17 True\n",
      "18 False\n",
      "19 True\n"
     ]
    }
   ],
   "source": [
    "for i,w in enumerate(prime):\n",
    "    print(i,w)"
   ]
  },
  {
   "cell_type": "markdown",
   "metadata": {},
   "source": [
    "## Object Oriented Concepts"
   ]
  },
  {
   "cell_type": "code",
   "execution_count": 6,
   "metadata": {},
   "outputs": [
    {
     "name": "stdout",
     "output_type": "stream",
     "text": [
      "1400 Saket\n"
     ]
    }
   ],
   "source": [
    "class MyClass():\n",
    "    number=0\n",
    "    name=\"noname\"\n",
    "\n",
    "def Main():\n",
    "    obj=MyClass()\n",
    "    obj.number=1400\n",
    "    obj.name=\"Saket\"\n",
    "    print(obj.number,obj.name)\n",
    "\n",
    "if __name__=='__main__':\n",
    "    Main() "
   ]
  },
  {
   "cell_type": "code",
   "execution_count": 13,
   "metadata": {},
   "outputs": [
    {
     "name": "stdout",
     "output_type": "stream",
     "text": [
      "2 5\n"
     ]
    }
   ],
   "source": [
    "class Vector2D():\n",
    "    x=0.0\n",
    "    y=0.0\n",
    "    def Set(self,x,y):\n",
    "        self.x=x\n",
    "        self.y=y\n",
    "\n",
    "def Main():\n",
    "    obj=Vector2D()\n",
    "    obj.Set(2,5)\n",
    "    print(obj.x,obj.y)\n",
    "\n",
    "if __name__=='__main__':\n",
    "    Main() "
   ]
  },
  {
   "cell_type": "code",
   "execution_count": 17,
   "metadata": {},
   "outputs": [
    {
     "name": "stdout",
     "output_type": "stream",
     "text": [
      "Hello World\n"
     ]
    }
   ],
   "source": [
    "class Test():\n",
    "    def fun(self):\n",
    "        print(\"Hello World\")\n",
    "\n",
    "Test().fun()    "
   ]
  },
  {
   "cell_type": "code",
   "execution_count": 37,
   "metadata": {},
   "outputs": [
    {
     "data": {
      "text/plain": [
       "<__main__.Robot at 0x165316be108>"
      ]
     },
     "execution_count": 37,
     "metadata": {},
     "output_type": "execute_result"
    }
   ],
   "source": [
    "class Robot():\n",
    "    \n",
    "    def __init__(self,givenname,givencolor,givenweight):\n",
    "        self.name=givenname\n",
    "        self.color=givencolor\n",
    "        self.weight=givenweight\n",
    "    \n",
    "    def intro(self):\n",
    "        print(\"My name is \",self.name)\n",
    "        print(\"My color is \",self.color)\n",
    "        print(\"My weight is \",self.weight)\n",
    "\n",
    "r1=Robot(\"Tom\",\"Red\",76)   \n",
    "r2=Robot(\"Jerry\",\"Blue\",56)\n",
    "r1\n"
   ]
  },
  {
   "cell_type": "code",
   "execution_count": 66,
   "metadata": {},
   "outputs": [
    {
     "data": {
      "text/plain": [
       "'Passionate'"
      ]
     },
     "execution_count": 66,
     "metadata": {},
     "output_type": "execute_result"
    }
   ],
   "source": [
    "class Person():\n",
    "    \n",
    "    def __init__(self,givenname,givenpersonality,givenissitting,givenrobot):\n",
    "        self.name=givenname\n",
    "        self.personality=givenpersonality\n",
    "        self.issitting=givenissitting\n",
    "        self.owned=givenrobot\n",
    "        \n",
    "        \n",
    "    def sit_down(self):\n",
    "        self.issitting=True\n",
    "    \n",
    "    def stand_up(self):\n",
    "        self.issitting=False\n",
    "        \n",
    "p1=Person(\"Saket\",\"Passionate\",True,r1)\n",
    "p2=Person(\"Isha\",\"Loving\",False,r1)\n",
    "\n",
    "\n"
   ]
  },
  {
   "cell_type": "code",
   "execution_count": 94,
   "metadata": {},
   "outputs": [
    {
     "name": "stdout",
     "output_type": "stream",
     "text": [
      "hi\n"
     ]
    },
    {
     "data": {
      "text/plain": [
       "<__main__.Person at 0x1653277a088>"
      ]
     },
     "execution_count": 94,
     "metadata": {},
     "output_type": "execute_result"
    }
   ],
   "source": [
    "class Person():\n",
    "    def __init__(self):\n",
    "        print(\"hi\")\n",
    "Person()     "
   ]
  },
  {
   "cell_type": "markdown",
   "metadata": {},
   "source": [
    "## Regular Expressions"
   ]
  },
  {
   "cell_type": "code",
   "execution_count": 112,
   "metadata": {},
   "outputs": [
    {
     "data": {
      "text/plain": [
       "['i', 'l', 'o', 'v', 'e', 'y', 'o', 'u', 'i', 's', 'h', 'a']"
      ]
     },
     "execution_count": 112,
     "metadata": {},
     "output_type": "execute_result"
    }
   ],
   "source": [
    "import re\n",
    "p=re.compile('[a-z]')\n",
    "re.findall(p,\"i love you isha\")"
   ]
  },
  {
   "cell_type": "code",
   "execution_count": 120,
   "metadata": {},
   "outputs": [
    {
     "data": {
      "text/plain": [
       "['3', '6', '5']"
      ]
     },
     "execution_count": 120,
     "metadata": {},
     "output_type": "execute_result"
    }
   ],
   "source": [
    "p=re.compile('\\d')\n",
    "re.findall(p,\"Isha I want to fuck you 365 days\")"
   ]
  },
  {
   "cell_type": "code",
   "execution_count": 126,
   "metadata": {},
   "outputs": [
    {
     "data": {
      "text/plain": [
       "['365']"
      ]
     },
     "execution_count": 126,
     "metadata": {},
     "output_type": "execute_result"
    }
   ],
   "source": [
    "p=re.compile('\\d+')\n",
    "re.findall(p,\"Isha I want to fuck you 365 days\")\n"
   ]
  },
  {
   "cell_type": "code",
   "execution_count": 129,
   "metadata": {},
   "outputs": [
    {
     "data": {
      "text/plain": [
       "['Isha', 'I', 'want', 'to', 'fuck', 'you', '365', 'days']"
      ]
     },
     "execution_count": 129,
     "metadata": {},
     "output_type": "execute_result"
    }
   ],
   "source": [
    "p=re.compile('\\w+')\n",
    "re.findall(p,\"Isha I want to fuck you 365 days.\")\n"
   ]
  },
  {
   "cell_type": "code",
   "execution_count": 131,
   "metadata": {},
   "outputs": [
    {
     "data": {
      "text/plain": [
       "[' ', ' ', ' ', ' ', ' ', ' ', ' ', '.']"
      ]
     },
     "execution_count": 131,
     "metadata": {},
     "output_type": "execute_result"
    }
   ],
   "source": [
    "p=re.compile('\\W')\n",
    "re.findall(p,\"Isha I want to fuck you 365 days.\")\n"
   ]
  },
  {
   "cell_type": "markdown",
   "metadata": {},
   "source": [
    "### Given a list of number find if the sum of two numbers matches the target"
   ]
  },
  {
   "cell_type": "code",
   "execution_count": 114,
   "metadata": {},
   "outputs": [
    {
     "data": {
      "text/plain": [
       "True"
      ]
     },
     "execution_count": 114,
     "metadata": {},
     "output_type": "execute_result"
    }
   ],
   "source": [
    "def sumtarget(l,target):\n",
    "    for i in range(len(l)):\n",
    "        for j in range(i+1,len(l)):\n",
    "            if l[i]+l[j]==target:\n",
    "                return True       "
   ]
  },
  {
   "cell_type": "markdown",
   "metadata": {},
   "source": [
    "## Linear Search and Time Complexity"
   ]
  },
  {
   "cell_type": "code",
   "execution_count": 232,
   "metadata": {},
   "outputs": [],
   "source": [
    "def linearsearch(arr,n,x):\n",
    "    for i in range(n):\n",
    "        if arr[i]==x:\n",
    "            return i\n",
    "    return -1\n",
    "\n",
    "arr = list(range(1,20000000))\n",
    "x = 19999999\n",
    "n = len(arr) \n"
   ]
  },
  {
   "cell_type": "code",
   "execution_count": 233,
   "metadata": {},
   "outputs": [
    {
     "name": "stdout",
     "output_type": "stream",
     "text": [
      "19999998\n",
      "2.0616250038146973 seconds\n"
     ]
    }
   ],
   "source": [
    "import time\n",
    "t1=time.time()\n",
    "print(linearsearch(arr,n,x))\n",
    "print(time.time()-t1,\"seconds\")"
   ]
  },
  {
   "cell_type": "markdown",
   "metadata": {},
   "source": [
    "## Binary Search"
   ]
  },
  {
   "cell_type": "code",
   "execution_count": 234,
   "metadata": {},
   "outputs": [],
   "source": [
    "arr=list(range(1,20000000))\n",
    "n=len(arr)"
   ]
  },
  {
   "cell_type": "code",
   "execution_count": 91,
   "metadata": {},
   "outputs": [],
   "source": [
    "def binarysearch(arr,l,r,x):\n",
    "    if r>=l:\n",
    "        mid=(l+r)//2\n",
    "        \n",
    "        if arr[mid]==x:\n",
    "            return mid\n",
    "    \n",
    "        if arr[mid]>x:\n",
    "            return binarysearch(arr,l,mid-1,x)\n",
    "        \n",
    "        else:\n",
    "            return binarysearch(arr,mid+1,r,x)\n",
    "        "
   ]
  },
  {
   "cell_type": "code",
   "execution_count": 92,
   "metadata": {},
   "outputs": [
    {
     "data": {
      "text/plain": [
       "4"
      ]
     },
     "execution_count": 92,
     "metadata": {},
     "output_type": "execute_result"
    }
   ],
   "source": [
    "arr=[-1,0,3,5,9,12]\n",
    "binarysearch(arr,0,len(arr)-1,9)\n"
   ]
  },
  {
   "cell_type": "code",
   "execution_count": 94,
   "metadata": {},
   "outputs": [
    {
     "data": {
      "text/plain": [
       "4"
      ]
     },
     "execution_count": 94,
     "metadata": {},
     "output_type": "execute_result"
    }
   ],
   "source": [
    "def binarysearchloop(arr,l,r,x):  \n",
    "    while r>=l:\n",
    "        mid=(l+r)//2\n",
    "        if arr[mid]==x:\n",
    "            return mid\n",
    "        if arr[mid]>x:\n",
    "            r=mid-1\n",
    "        if arr[mid]<x:\n",
    "            l=mid+1\n",
    "\n",
    "binarysearchloop(arr,0,5,9)"
   ]
  },
  {
   "cell_type": "markdown",
   "metadata": {},
   "source": [
    "### Linked List"
   ]
  },
  {
   "cell_type": "code",
   "execution_count": 1,
   "metadata": {},
   "outputs": [],
   "source": [
    "class Node:\n",
    "    def __init__(self,data=None,next=None):\n",
    "        self.data=data\n",
    "        self.next=next \n",
    "\n",
    "\n",
    "class LinkedList:\n",
    "    \n",
    "    def __init__(self):\n",
    "        self.head=None\n",
    "        \n",
    "        \n",
    "    def insert_at_beg(self,data):\n",
    "        node=Node(data,self.head)\n",
    "        self.head=node\n",
    "        \n",
    "    def insert_at_end(self,data):\n",
    "        if self.head is None:\n",
    "            self.head=Node(data,None)\n",
    "            return\n",
    "        else:\n",
    "            itr=self.head\n",
    "            while itr.next:\n",
    "                itr=itr.next\n",
    "            itr.next=Node(data,None)\n",
    "     \n",
    "    \n",
    "    def insert_values(self,data_list):\n",
    "        self.head=None\n",
    "        for data in data_list:\n",
    "            self.insert_at_end(data)\n",
    "            \n",
    "            \n",
    "    def get_length(self):\n",
    "        c=0\n",
    "        itr=self.head\n",
    "        while itr:\n",
    "            \n",
    "            itr=itr.next\n",
    "            c=c+1\n",
    "        \n",
    "        return c\n",
    "    \n",
    "    def remove_at(self,index):\n",
    "        if index<0 or index>self.get_length():\n",
    "            return Exception(\"Invalid Syntax\")\n",
    "        \n",
    "        if index==0:\n",
    "            self.head=self.head.next\n",
    "            return\n",
    "        \n",
    "        count=0\n",
    "        itr=self.head\n",
    "        \n",
    "        while itr:\n",
    "            if count==index-1:\n",
    "                itr.next=itr.next.next\n",
    "                break\n",
    "            itr=itr.next\n",
    "            count=count+1\n",
    "            \n",
    "            \n",
    "    def insert_at(self,index,data):\n",
    "        \n",
    "        itr=self.head\n",
    "        d=0\n",
    "        while itr:\n",
    "            if d==index-1:\n",
    "                itr.next=Node(data,itr.next)\n",
    "            d=d+1\n",
    "            itr=itr.next\n",
    "            \n",
    "    def remove_by(self,value):\n",
    "        itr=self.head\n",
    "        \n",
    "        \n",
    "        while itr:\n",
    "            \n",
    "            if itr.next.data==value:\n",
    "                itr.next=itr.next.next\n",
    "                break\n",
    "            else:    \n",
    "                itr=itr.next\n",
    "                \n",
    "    def insert_after_value(self,data_after,data_to_insert):\n",
    "        itr=self.head\n",
    "        while itr:\n",
    "            if itr.data==data_after:\n",
    "                itr.next=Node(data_to_insert,itr.next)\n",
    "                break\n",
    "            itr=itr.next\n",
    "            \n",
    "            \n",
    "    ### Reversing a Linked List Nice Logic to Recap\n",
    "    def reverse(self):\n",
    "        current=self.head\n",
    "        prev=None\n",
    "        while(current is not None):\n",
    "            d=current.next\n",
    "            current.next=prev\n",
    "            prev=current\n",
    "            current=d\n",
    "        self.head=prev\n",
    "    \n",
    "    def display(self):\n",
    "        if self.head is None:\n",
    "            print(\"Linked List is Empty\")\n",
    "            return\n",
    "        itr=self.head\n",
    "    \n",
    "        ls=\"\"\n",
    "        while itr:\n",
    "            if itr.next is None:\n",
    "                ls=ls+str(itr.data)\n",
    "            else:\n",
    "                ls=ls+str(itr.data)+\"=>\"\n",
    "            itr=itr.next\n",
    "        print(ls)    \n",
    "            "
   ]
  },
  {
   "cell_type": "code",
   "execution_count": 3,
   "metadata": {},
   "outputs": [
    {
     "data": {
      "text/plain": [
       "56"
      ]
     },
     "execution_count": 3,
     "metadata": {},
     "output_type": "execute_result"
    }
   ],
   "source": [
    "l = LinkedList()\n",
    "import sys\n",
    "sys.getsizeof(l)"
   ]
  },
  {
   "cell_type": "code",
   "execution_count": 4,
   "metadata": {},
   "outputs": [
    {
     "name": "stdout",
     "output_type": "stream",
     "text": [
      "1=>2=>3=>4=>0=>-1=>100=>0=>1=>2=>6=>8\n"
     ]
    }
   ],
   "source": [
    "l.insert_values([1,2,3,4,0,-1,100,0,1,2,6,8])\n",
    "l.display()"
   ]
  },
  {
   "cell_type": "code",
   "execution_count": 6,
   "metadata": {},
   "outputs": [
    {
     "data": {
      "text/plain": [
       "56"
      ]
     },
     "execution_count": 6,
     "metadata": {},
     "output_type": "execute_result"
    }
   ],
   "source": [
    "sys.getsizeof(l)"
   ]
  },
  {
   "cell_type": "code",
   "execution_count": 63,
   "metadata": {},
   "outputs": [
    {
     "name": "stdout",
     "output_type": "stream",
     "text": [
      "4=>3=>2=>1\n"
     ]
    }
   ],
   "source": [
    "l.display()"
   ]
  },
  {
   "cell_type": "code",
   "execution_count": 173,
   "metadata": {},
   "outputs": [],
   "source": [
    "l.remove_by(\"mummy\")"
   ]
  },
  {
   "cell_type": "code",
   "execution_count": 174,
   "metadata": {},
   "outputs": [
    {
     "name": "stdout",
     "output_type": "stream",
     "text": [
      "isha => saket => rachit => 10 => papa => \n"
     ]
    }
   ],
   "source": [
    "l.printt()"
   ]
  },
  {
   "cell_type": "markdown",
   "metadata": {},
   "source": [
    "### Doubly Linked List"
   ]
  },
  {
   "cell_type": "code",
   "execution_count": 72,
   "metadata": {},
   "outputs": [],
   "source": [
    "class Node:\n",
    "    def __init__(self,data,next=None,prev=None):\n",
    "        self.data=data\n",
    "        self.next=next\n",
    "        self.prev=prev\n",
    "        \n",
    "class DoubleLinkedList:\n",
    "    def __init__(self):\n",
    "        self.head=None\n",
    "    \n",
    "    def insert_at_beg(self,data):\n",
    "        \n",
    "        node=Node(data,None,None)\n",
    "        node.next=self.head\n",
    "        \n",
    "        if self.head is not None:\n",
    "            self.head.prev=node\n",
    "        \n",
    "        self.head=node\n",
    "        \n",
    "        \n",
    "    def traverse(self):\n",
    "        itr=self.head\n",
    "        ls=\"\"\n",
    "        while(itr):\n",
    "            if itr.next is not None:\n",
    "                ls=ls + str(itr.data) +\"=>\"\n",
    "            else:\n",
    "                ls=ls+str(itr.data)\n",
    "            itr=itr.next\n",
    "        print(ls)\n",
    "    \n",
    "    def insert_end(self,data):\n",
    "        itr=self.head\n",
    "        node=Node(data,None,None)\n",
    "        \n",
    "        if self.head is None:\n",
    "            self.head=node\n",
    "        \n",
    "        while(itr):\n",
    "            if itr.next==None:\n",
    "                itr.next=node\n",
    "                node.prev=itr\n",
    "                break\n",
    "                \n",
    "            itr=itr.next    \n",
    "       \n",
    "    def reverse(self):\n",
    "        current=self.head\n",
    "        temp=None\n",
    "        \n",
    "        while(current):\n",
    "            temp=current\n",
    "            current.next.next=current\n",
    "            current.prev=current.next\n",
    "            current=current.next\n",
    "            \n",
    "            \n",
    "     \n",
    "      \n",
    "        \n",
    "\n",
    "    \n",
    "               \n",
    "            \n",
    "            \n",
    "            "
   ]
  },
  {
   "cell_type": "code",
   "execution_count": 73,
   "metadata": {},
   "outputs": [],
   "source": [
    "d=DoubleLinkedList()\n"
   ]
  },
  {
   "cell_type": "code",
   "execution_count": 74,
   "metadata": {},
   "outputs": [],
   "source": [
    "d.insert_at_beg(10)\n",
    "d.insert_at_beg(20)\n",
    "d.insert_at_beg(30)\n",
    "d.insert_at_beg(40)\n",
    "d.insert_at_beg(50)\n"
   ]
  },
  {
   "cell_type": "code",
   "execution_count": 75,
   "metadata": {},
   "outputs": [
    {
     "name": "stdout",
     "output_type": "stream",
     "text": [
      "50=>40=>30=>20=>10\n"
     ]
    }
   ],
   "source": [
    "d.traverse()"
   ]
  },
  {
   "cell_type": "code",
   "execution_count": null,
   "metadata": {},
   "outputs": [],
   "source": [
    "d.reverse()"
   ]
  },
  {
   "cell_type": "code",
   "execution_count": 60,
   "metadata": {},
   "outputs": [
    {
     "name": "stdout",
     "output_type": "stream",
     "text": [
      "50=>40=>30=>20=>10=>30\n"
     ]
    }
   ],
   "source": [
    "d.traverse()"
   ]
  },
  {
   "cell_type": "markdown",
   "metadata": {},
   "source": [
    "## Stacks"
   ]
  },
  {
   "cell_type": "code",
   "execution_count": 1,
   "metadata": {},
   "outputs": [],
   "source": [
    "### Pyhton list can be used as a Stack\n",
    "s=[]\n",
    "s.append(\"https://www.cnn.com/\")\n",
    "s.append(\"https://www.cnn.com/world\")\n",
    "s.append(\"https://www.cnn.com/india\")\n",
    "s.append(\"https://www.cnn.com/china\")"
   ]
  },
  {
   "cell_type": "code",
   "execution_count": 2,
   "metadata": {},
   "outputs": [
    {
     "data": {
      "text/plain": [
       "'https://www.cnn.com/china'"
      ]
     },
     "execution_count": 2,
     "metadata": {},
     "output_type": "execute_result"
    }
   ],
   "source": [
    "s.pop()"
   ]
  },
  {
   "cell_type": "code",
   "execution_count": 3,
   "metadata": {},
   "outputs": [
    {
     "data": {
      "text/plain": [
       "['https://www.cnn.com/',\n",
       " 'https://www.cnn.com/world',\n",
       " 'https://www.cnn.com/india']"
      ]
     },
     "execution_count": 3,
     "metadata": {},
     "output_type": "execute_result"
    }
   ],
   "source": [
    "s"
   ]
  },
  {
   "cell_type": "code",
   "execution_count": 4,
   "metadata": {},
   "outputs": [
    {
     "data": {
      "text/plain": [
       "'https://www.cnn.com/india'"
      ]
     },
     "execution_count": 4,
     "metadata": {},
     "output_type": "execute_result"
    }
   ],
   "source": [
    "s.pop()"
   ]
  },
  {
   "cell_type": "code",
   "execution_count": 5,
   "metadata": {},
   "outputs": [
    {
     "data": {
      "text/plain": [
       "['https://www.cnn.com/', 'https://www.cnn.com/world']"
      ]
     },
     "execution_count": 5,
     "metadata": {},
     "output_type": "execute_result"
    }
   ],
   "source": [
    "s"
   ]
  },
  {
   "cell_type": "code",
   "execution_count": 6,
   "metadata": {},
   "outputs": [
    {
     "data": {
      "text/plain": [
       "'https://www.cnn.com/world'"
      ]
     },
     "execution_count": 6,
     "metadata": {},
     "output_type": "execute_result"
    }
   ],
   "source": [
    "s.pop()"
   ]
  },
  {
   "cell_type": "code",
   "execution_count": 7,
   "metadata": {},
   "outputs": [
    {
     "data": {
      "text/plain": [
       "['https://www.cnn.com/']"
      ]
     },
     "execution_count": 7,
     "metadata": {},
     "output_type": "execute_result"
    }
   ],
   "source": [
    "s"
   ]
  },
  {
   "cell_type": "code",
   "execution_count": 8,
   "metadata": {},
   "outputs": [
    {
     "data": {
      "text/plain": [
       "'https://www.cnn.com/'"
      ]
     },
     "execution_count": 8,
     "metadata": {},
     "output_type": "execute_result"
    }
   ],
   "source": [
    "s.pop()"
   ]
  },
  {
   "cell_type": "code",
   "execution_count": 9,
   "metadata": {},
   "outputs": [
    {
     "data": {
      "text/plain": [
       "[]"
      ]
     },
     "execution_count": 9,
     "metadata": {},
     "output_type": "execute_result"
    }
   ],
   "source": [
    "s"
   ]
  },
  {
   "cell_type": "code",
   "execution_count": 10,
   "metadata": {},
   "outputs": [
    {
     "ename": "IndexError",
     "evalue": "pop from empty list",
     "output_type": "error",
     "traceback": [
      "\u001b[1;31m---------------------------------------------------------------------------\u001b[0m",
      "\u001b[1;31mIndexError\u001b[0m                                Traceback (most recent call last)",
      "\u001b[1;32m<ipython-input-10-c88c8c48122b>\u001b[0m in \u001b[0;36m<module>\u001b[1;34m\u001b[0m\n\u001b[1;32m----> 1\u001b[1;33m \u001b[0ms\u001b[0m\u001b[1;33m.\u001b[0m\u001b[0mpop\u001b[0m\u001b[1;33m(\u001b[0m\u001b[1;33m)\u001b[0m\u001b[1;33m\u001b[0m\u001b[1;33m\u001b[0m\u001b[0m\n\u001b[0m",
      "\u001b[1;31mIndexError\u001b[0m: pop from empty list"
     ]
    }
   ],
   "source": [
    "s.pop()"
   ]
  },
  {
   "cell_type": "markdown",
   "metadata": {},
   "source": [
    "### Using Deque"
   ]
  },
  {
   "cell_type": "code",
   "execution_count": 23,
   "metadata": {},
   "outputs": [],
   "source": [
    "from collections import deque\n",
    "stack=deque()"
   ]
  },
  {
   "cell_type": "code",
   "execution_count": 24,
   "metadata": {},
   "outputs": [
    {
     "data": {
      "text/plain": [
       "['__add__',\n",
       " '__bool__',\n",
       " '__class__',\n",
       " '__contains__',\n",
       " '__copy__',\n",
       " '__delattr__',\n",
       " '__delitem__',\n",
       " '__dir__',\n",
       " '__doc__',\n",
       " '__eq__',\n",
       " '__format__',\n",
       " '__ge__',\n",
       " '__getattribute__',\n",
       " '__getitem__',\n",
       " '__gt__',\n",
       " '__hash__',\n",
       " '__iadd__',\n",
       " '__imul__',\n",
       " '__init__',\n",
       " '__init_subclass__',\n",
       " '__iter__',\n",
       " '__le__',\n",
       " '__len__',\n",
       " '__lt__',\n",
       " '__mul__',\n",
       " '__ne__',\n",
       " '__new__',\n",
       " '__reduce__',\n",
       " '__reduce_ex__',\n",
       " '__repr__',\n",
       " '__reversed__',\n",
       " '__rmul__',\n",
       " '__setattr__',\n",
       " '__setitem__',\n",
       " '__sizeof__',\n",
       " '__str__',\n",
       " '__subclasshook__',\n",
       " 'append',\n",
       " 'appendleft',\n",
       " 'clear',\n",
       " 'copy',\n",
       " 'count',\n",
       " 'extend',\n",
       " 'extendleft',\n",
       " 'index',\n",
       " 'insert',\n",
       " 'maxlen',\n",
       " 'pop',\n",
       " 'popleft',\n",
       " 'remove',\n",
       " 'reverse',\n",
       " 'rotate']"
      ]
     },
     "execution_count": 24,
     "metadata": {},
     "output_type": "execute_result"
    }
   ],
   "source": [
    "dir(stack)"
   ]
  },
  {
   "cell_type": "code",
   "execution_count": 25,
   "metadata": {},
   "outputs": [
    {
     "data": {
      "text/plain": [
       "deque(['https://www.cnn.com/'])"
      ]
     },
     "execution_count": 25,
     "metadata": {},
     "output_type": "execute_result"
    }
   ],
   "source": [
    "stack.append(\"https://www.cnn.com/\")\n",
    "stack"
   ]
  },
  {
   "cell_type": "code",
   "execution_count": 26,
   "metadata": {},
   "outputs": [],
   "source": [
    "stack.append(\"https://www.cnn.com/world\")"
   ]
  },
  {
   "cell_type": "code",
   "execution_count": 27,
   "metadata": {},
   "outputs": [
    {
     "data": {
      "text/plain": [
       "'https://www.cnn.com/world'"
      ]
     },
     "execution_count": 27,
     "metadata": {},
     "output_type": "execute_result"
    }
   ],
   "source": [
    "stack.pop()"
   ]
  },
  {
   "cell_type": "code",
   "execution_count": 16,
   "metadata": {},
   "outputs": [
    {
     "data": {
      "text/plain": [
       "deque(['https://www.cnn.com/'])"
      ]
     },
     "execution_count": 16,
     "metadata": {},
     "output_type": "execute_result"
    }
   ],
   "source": [
    "stack"
   ]
  },
  {
   "cell_type": "markdown",
   "metadata": {},
   "source": [
    "### Stack Implementation Python"
   ]
  },
  {
   "cell_type": "code",
   "execution_count": 17,
   "metadata": {},
   "outputs": [],
   "source": [
    "class Stack:\n",
    "    def __init__(self):\n",
    "        self.stack=deque()\n",
    "    def push(self,value):\n",
    "        self.stack.append(value)\n",
    "    def pop(self):\n",
    "        self.stack.pop()\n",
    "    def size(self):\n",
    "        return len(self.stack)\n",
    "    def display(self):\n",
    "        for i in range(self.size()):\n",
    "            print(self.stack.pop())"
   ]
  },
  {
   "cell_type": "code",
   "execution_count": 18,
   "metadata": {},
   "outputs": [
    {
     "name": "stdout",
     "output_type": "stream",
     "text": [
      "9\n",
      "3\n",
      "2\n"
     ]
    }
   ],
   "source": [
    "stack=Stack()\n",
    "stack.push(2)\n",
    "stack.push(3)\n",
    "stack.push(9)\n",
    "stack.size()\n",
    "stack.display()"
   ]
  },
  {
   "cell_type": "code",
   "execution_count": 19,
   "metadata": {},
   "outputs": [],
   "source": [
    "s=\"We will conquere COVID-19\"\n",
    "def reverse_string(string):\n",
    "    stack=deque()\n",
    "    for i in range(len(string)):\n",
    "        stack.append(string[i])\n",
    "    lstr=''   \n",
    "    for i in range(len(string)):\n",
    "        lstr=lstr+stack.pop()\n",
    "    return lstr   "
   ]
  },
  {
   "cell_type": "code",
   "execution_count": 20,
   "metadata": {},
   "outputs": [
    {
     "data": {
      "text/plain": [
       "'91-DIVOC ereuqnoc lliw eW'"
      ]
     },
     "execution_count": 20,
     "metadata": {},
     "output_type": "execute_result"
    }
   ],
   "source": [
    "reverse_string(\"We will conquere COVID-19\")"
   ]
  },
  {
   "cell_type": "code",
   "execution_count": 83,
   "metadata": {},
   "outputs": [
    {
     "data": {
      "text/plain": [
       "(3, 5)"
      ]
     },
     "execution_count": 83,
     "metadata": {},
     "output_type": "execute_result"
    }
   ],
   "source": [
    "### Check Balanced Paranthesis\n",
    "from collections import deque\n",
    "def is_match(ch1,ch2):\n",
    "    d={\"}\":\"{\",\")\":\"(\",\"]\":\"[\"}\n",
    "    if d[ch1]==ch2:\n",
    "        return True\n",
    "    else:\n",
    "        return False\n",
    "\n",
    "s=\"(((({}))\"\n",
    "stack=deque()\n",
    "c=0\n",
    "h=0\n",
    "for ch in s:\n",
    "    if ch in [\"(\",\"{\",\"[\"]:\n",
    "        stack.append(ch)\n",
    "        h=h+1\n",
    "    if ch in [\")\",\"}\",\"]\"]:\n",
    "        if is_match(ch,stack.pop()):\n",
    "            c=c+1\n",
    "            \n",
    "      \n",
    "            \n",
    "   \n",
    "        \n",
    "\n",
    "            \n",
    "            \n",
    "c,h"
   ]
  },
  {
   "cell_type": "code",
   "execution_count": 80,
   "metadata": {},
   "outputs": [
    {
     "data": {
      "text/plain": [
       "8"
      ]
     },
     "execution_count": 80,
     "metadata": {},
     "output_type": "execute_result"
    }
   ],
   "source": [
    "len(set(\"((({}))123)]]]\"))"
   ]
  },
  {
   "cell_type": "markdown",
   "metadata": {},
   "source": [
    "## Binary Tree\n",
    "### 1- Depth First Search Traversals in Binary Tree"
   ]
  },
  {
   "cell_type": "code",
   "execution_count": 12,
   "metadata": {},
   "outputs": [],
   "source": [
    "class Node:\n",
    "    def __init__(self,value):\n",
    "        self.value=value\n",
    "        self.right=None\n",
    "        self.left=None\n",
    "\n",
    "class BinaryTree:\n",
    "    def __init__(self,root):\n",
    "        self.root=Node(root)\n",
    "      \n",
    "    def print_tree(self,traversal_type):\n",
    "        if traversal_type==\"preorder\":\n",
    "            return self.preorder_print(tree.root,\"\")\n",
    "        if traversal_type==\"inorder\":\n",
    "            return self.inorder_print(tree.root,\"\")\n",
    "        if traversal_type==\"postorder\":\n",
    "            return self.postorder_print(tree.root,\"\")\n",
    "        \n",
    "    def preorder_print(self,start,traversal):\n",
    "        \"\"\"Root->Left->Right\"\"\"\n",
    "        if start:\n",
    "            traversal=traversal+(str(start.value)+\"-\")\n",
    "            traversal=self.preorder_print(start.left,traversal)\n",
    "            traversal=self.preorder_print(start.right,traversal)\n",
    "        return traversal\n",
    "    \n",
    "    def inorder_print(self,start,traversal):\n",
    "        \"\"\"Left->Root->Right\"\"\"\n",
    "        if start:\n",
    "            traversal=self.inorder_print(start.left,traversal)\n",
    "            traversal=traversal+(str(start.value)+\"-\")\n",
    "            traversal=self.inorder_print(start.right,traversal)\n",
    "        return traversal\n",
    "    \n",
    "    def postorder_print(self,start,traversal):\n",
    "        \"\"\"Left->Right->Root\"\"\"\n",
    "        if start:\n",
    "            traversal=self.postorder_print(start.left,traversal)\n",
    "            traversal=self.postorder_print(start.right,traversal)\n",
    "            traversal=traversal+(str(start.value)+\"-\")\n",
    "        return traversal\n",
    "        \n",
    "            \n",
    "tree=BinaryTree(2)\n",
    "tree.root.left=Node(3)\n",
    "tree.root.left.left=Node(5)\n",
    "tree.root.left.right=Node(6)\n",
    "tree.root.right=Node(8)\n",
    "tree.root.right.left=Node(10)\n",
    "tree.root.right.right=Node(11)\n"
   ]
  },
  {
   "cell_type": "code",
   "execution_count": 14,
   "metadata": {},
   "outputs": [
    {
     "data": {
      "text/plain": [
       "('2-3-5-6-8-10-11-', '5-3-6-2-10-8-11-', '5-6-3-10-11-8-2-')"
      ]
     },
     "execution_count": 14,
     "metadata": {},
     "output_type": "execute_result"
    }
   ],
   "source": [
    "tree.print_tree(\"preorder\"),tree.print_tree(\"inorder\"),tree.print_tree(\"postorder\")\n"
   ]
  },
  {
   "cell_type": "markdown",
   "metadata": {},
   "source": [
    "### Binary Search Tree"
   ]
  },
  {
   "cell_type": "code",
   "execution_count": 260,
   "metadata": {},
   "outputs": [],
   "source": [
    "### Insertion in a Binary Tree\n",
    "class BinarySearchTreeNode:\n",
    "    def __init__(self,data):\n",
    "        self.value=data\n",
    "        self.left=None\n",
    "        self.right=None\n",
    "        \n",
    "    def addchild(self,data):\n",
    "        if self.value==data:\n",
    "            print(\"Already Exists\")\n",
    "            return\n",
    "        if self.value>data:\n",
    "            if self.left:\n",
    "                #self.left=self.left.value\n",
    "                self.left.addchild(data)\n",
    "             \n",
    "            else:\n",
    "                self.left=BinarySearchTreeNode(data)\n",
    "        \n",
    "        if self.value<data:\n",
    "            if self.right:\n",
    "                self.right.addchild(data)\n",
    "             \n",
    "            else:\n",
    "                self.right=BinarySearchTreeNode(data)\n",
    "     \n",
    "    def inorder_print(self,start,traversal):\n",
    "        \"\"\"Left->Root->Right\"\"\"\n",
    "        if start:\n",
    "            traversal=self.inorder_print(start.left,traversal)\n",
    "            traversal=traversal+(str(start.value)+\"-\")\n",
    "            traversal=self.inorder_print(start.right,traversal)\n",
    "        return traversal\n",
    "    \n",
    "    def search(self,data):\n",
    "        if self.value==data:\n",
    "            return True\n",
    "        if self.value>data:\n",
    "            if self.left:\n",
    "                return self.left.search(data)\n",
    "            else:\n",
    "                return False\n",
    "            \n",
    "        if self.value<data:\n",
    "            if self.right:\n",
    "                return self.right.search(data)\n",
    "            else:\n",
    "                return False\n",
    "            \n",
    "   \n",
    "    \n",
    "\n",
    "       \n",
    "        \n"
   ]
  },
  {
   "cell_type": "code",
   "execution_count": 261,
   "metadata": {},
   "outputs": [],
   "source": [
    "values=[17,4,1,20,9,23,5]"
   ]
  },
  {
   "cell_type": "code",
   "execution_count": 262,
   "metadata": {},
   "outputs": [],
   "source": [
    "root=BinarySearchTreeNode(values[0])\n",
    "for i in range(1,len(values)):\n",
    "    root.addchild(values[i])"
   ]
  },
  {
   "cell_type": "code",
   "execution_count": 263,
   "metadata": {},
   "outputs": [
    {
     "data": {
      "text/plain": [
       "4"
      ]
     },
     "execution_count": 263,
     "metadata": {},
     "output_type": "execute_result"
    }
   ],
   "source": [
    "root.left.value"
   ]
  },
  {
   "cell_type": "code",
   "execution_count": 264,
   "metadata": {},
   "outputs": [
    {
     "data": {
      "text/plain": [
       "'1-4-5-9-17-20-23-'"
      ]
     },
     "execution_count": 264,
     "metadata": {},
     "output_type": "execute_result"
    }
   ],
   "source": [
    "root.inorder_print(root,\"\")"
   ]
  },
  {
   "cell_type": "markdown",
   "metadata": {},
   "source": [
    "### Sum of All Nodes in a Binary Tree"
   ]
  },
  {
   "cell_type": "code",
   "execution_count": 144,
   "metadata": {},
   "outputs": [],
   "source": [
    "class Node:\n",
    "    def __init__(self,data):\n",
    "        self.value=data\n",
    "        self.left=None\n",
    "        self.right=None\n",
    "\n",
    "elements=[]\n",
    "def inorder(root):\n",
    "    if root:\n",
    "        inorder(root.left)\n",
    "        elements.append(root.value)\n",
    "        inorder(root.right)\n",
    "    return sum(elements)  \n",
    "\n",
    "\n",
    "def addBT(root):  \n",
    "    if (root == None): \n",
    "        return 0\n",
    "    return (root.value + addBT(root.left) + \n",
    "                       addBT(root.right))  \n",
    "       \n",
    "        \n",
    "        "
   ]
  },
  {
   "cell_type": "code",
   "execution_count": 145,
   "metadata": {},
   "outputs": [],
   "source": [
    "root=Node(15)\n",
    "root.left=Node(10)\n",
    "root.right=Node(20)\n",
    "root.left.left=Node(8)\n",
    "root.left.right=Node(12)\n",
    "root.right.left=Node(16)\n",
    "root.right.right=Node(25)\n"
   ]
  },
  {
   "cell_type": "code",
   "execution_count": 146,
   "metadata": {},
   "outputs": [
    {
     "data": {
      "text/plain": [
       "106"
      ]
     },
     "execution_count": 146,
     "metadata": {},
     "output_type": "execute_result"
    }
   ],
   "source": [
    "inorder(root)\n",
    "addBT(root)"
   ]
  },
  {
   "cell_type": "markdown",
   "metadata": {},
   "source": [
    "### Sum of all Left Leafs in a given binary tree"
   ]
  },
  {
   "cell_type": "code",
   "execution_count": 161,
   "metadata": {},
   "outputs": [],
   "source": [
    "elements=[]\n",
    "def inorder(root):\n",
    "    if root:\n",
    "        inorder(root.left)\n",
    "        if (root.left==None and root.right==None):\n",
    "            elements.append(root.value)\n",
    "        inorder(root.right)\n",
    "    return (elements) "
   ]
  },
  {
   "cell_type": "code",
   "execution_count": 162,
   "metadata": {},
   "outputs": [],
   "source": [
    "root=Node(9)\n",
    "root.left=Node(8)\n",
    "root.right=Node(6)\n",
    "root.left.left=Node(5)\n",
    "root.left.right=Node(2)\n",
    "root.right.left=Node(1)\n",
    "\n"
   ]
  },
  {
   "cell_type": "code",
   "execution_count": 163,
   "metadata": {},
   "outputs": [
    {
     "data": {
      "text/plain": [
       "[5, 2, 1]"
      ]
     },
     "execution_count": 163,
     "metadata": {},
     "output_type": "execute_result"
    }
   ],
   "source": [
    "inorder(root)"
   ]
  },
  {
   "cell_type": "markdown",
   "metadata": {},
   "source": [
    "## Recursion Practice"
   ]
  },
  {
   "cell_type": "code",
   "execution_count": 224,
   "metadata": {},
   "outputs": [
    {
     "name": "stdout",
     "output_type": "stream",
     "text": [
      "120\n",
      "0.0\n"
     ]
    }
   ],
   "source": [
    "### Factorial\n",
    "import time\n",
    "def factorial(n):\n",
    "    if n==0:\n",
    "        return 1\n",
    "    output=n*factorial(n-1)\n",
    "    return output\n",
    "t1=time.time()\n",
    "print(factorial(5))\n",
    "print(time.time()-t1)\n"
   ]
  },
  {
   "cell_type": "code",
   "execution_count": 203,
   "metadata": {},
   "outputs": [
    {
     "data": {
      "text/plain": [
       "239"
      ]
     },
     "execution_count": 203,
     "metadata": {},
     "output_type": "execute_result"
    }
   ],
   "source": [
    "n=23982-23982%10\n",
    "23982//100"
   ]
  },
  {
   "cell_type": "code",
   "execution_count": 207,
   "metadata": {},
   "outputs": [],
   "source": [
    "### Sum of digits\n",
    "def sum_recursively(n):\n",
    "    if n<=10:\n",
    "        return n\n",
    "    else:\n",
    "        return n%10+sum_recursively(n//10)"
   ]
  },
  {
   "cell_type": "code",
   "execution_count": 211,
   "metadata": {},
   "outputs": [
    {
     "data": {
      "text/plain": [
       "2"
      ]
     },
     "execution_count": 211,
     "metadata": {},
     "output_type": "execute_result"
    }
   ],
   "source": [
    "sum_recursively(11)"
   ]
  },
  {
   "cell_type": "code",
   "execution_count": 218,
   "metadata": {},
   "outputs": [],
   "source": [
    "### Power of a function\n",
    "def power(n,m):\n",
    "    if m==0:\n",
    "        return 1\n",
    "    else:\n",
    "        return n*power(n,m-1)"
   ]
  },
  {
   "cell_type": "code",
   "execution_count": 221,
   "metadata": {},
   "outputs": [
    {
     "data": {
      "text/plain": [
       "625"
      ]
     },
     "execution_count": 221,
     "metadata": {},
     "output_type": "execute_result"
    }
   ],
   "source": [
    "power(5,4)"
   ]
  },
  {
   "cell_type": "code",
   "execution_count": 232,
   "metadata": {},
   "outputs": [
    {
     "name": "stdout",
     "output_type": "stream",
     "text": [
      "Enter the first number10\n",
      "Enter the last number20\n",
      "20 19 18 17 16 15 14 13 12 11 10 "
     ]
    }
   ],
   "source": [
    "### Natural number in reverse order\n",
    "def f(a,b):\n",
    "    if b<a:\n",
    "        return\n",
    "    print(b,end=\" \")\n",
    "    return f(a,b-1)\n",
    "a=int(input(\"Enter the first number\"))\n",
    "b=int(input(\"Enter the last number\"))\n",
    "f(a,b)\n"
   ]
  },
  {
   "cell_type": "code",
   "execution_count": 269,
   "metadata": {},
   "outputs": [
    {
     "data": {
      "text/plain": [
       "False"
      ]
     },
     "execution_count": 269,
     "metadata": {},
     "output_type": "execute_result"
    }
   ],
   "source": [
    "### Armstrong Number\n",
    "\n",
    "def f(n):\n",
    "    x=0\n",
    "    temp=n\n",
    "    while n>0:\n",
    "        x=x+(n%10)**3\n",
    "        n=n//10\n",
    "    if x==temp:\n",
    "        return True\n",
    "    else:\n",
    "        return False\n",
    "    \n",
    "f(3714758589949484949404)   "
   ]
  },
  {
   "cell_type": "code",
   "execution_count": 270,
   "metadata": {},
   "outputs": [],
   "source": [
    "### Using Recursion\n",
    "def f(n):\n",
    "    if n<=10:\n",
    "        return n**3\n",
    "    return (n%10)**3+f(n//10)"
   ]
  },
  {
   "cell_type": "code",
   "execution_count": 271,
   "metadata": {},
   "outputs": [
    {
     "data": {
      "text/plain": [
       "1571"
      ]
     },
     "execution_count": 271,
     "metadata": {},
     "output_type": "execute_result"
    }
   ],
   "source": [
    "f(4000711115435348534)"
   ]
  },
  {
   "cell_type": "code",
   "execution_count": 281,
   "metadata": {},
   "outputs": [],
   "source": [
    "### Sum of square series\n",
    "def f(n):\n",
    "    if n==0:\n",
    "        return 0\n",
    "    print(n,end=\" \")\n",
    "    return n**2+f(n-1)"
   ]
  },
  {
   "cell_type": "code",
   "execution_count": 282,
   "metadata": {},
   "outputs": [
    {
     "name": "stdout",
     "output_type": "stream",
     "text": [
      "50 49 48 47 46 45 44 43 42 41 40 39 38 37 36 35 34 33 32 31 30 29 28 27 26 25 24 23 22 21 20 19 18 17 16 15 14 13 12 11 10 9 8 7 6 5 4 3 2 1 "
     ]
    },
    {
     "data": {
      "text/plain": [
       "42925"
      ]
     },
     "execution_count": 282,
     "metadata": {},
     "output_type": "execute_result"
    }
   ],
   "source": [
    "f(50)"
   ]
  },
  {
   "cell_type": "markdown",
   "metadata": {},
   "source": [
    "## Hash Table- Underlying Data Structure of Dictionary in Python"
   ]
  },
  {
   "cell_type": "code",
   "execution_count": 325,
   "metadata": {},
   "outputs": [],
   "source": [
    "stock_prices=[]\n",
    "with open(\"stock_prices.csv\",\"r\") as f:\n",
    "    for line in f:\n",
    "        tokens=line.split(\",\")\n",
    "        stock_prices.append([tokens[0],float(tokens[1])])"
   ]
  },
  {
   "cell_type": "code",
   "execution_count": 326,
   "metadata": {},
   "outputs": [
    {
     "data": {
      "text/plain": [
       "[['march 6', 310.0],\n",
       " ['march 7', 340.0],\n",
       " ['march 8', 380.0],\n",
       " ['march 9', 302.0],\n",
       " ['march 10', 297.0],\n",
       " ['march 11', 323.0]]"
      ]
     },
     "execution_count": 326,
     "metadata": {},
     "output_type": "execute_result"
    }
   ],
   "source": [
    "stock_prices"
   ]
  },
  {
   "cell_type": "code",
   "execution_count": 327,
   "metadata": {},
   "outputs": [],
   "source": [
    "stock_prices={}\n",
    "with open(\"stock_prices.csv\",\"r\") as f:\n",
    "    for line in f:\n",
    "        tokens=line.split(\",\")\n",
    "        stock_prices[tokens[0]]=float(tokens[1])"
   ]
  },
  {
   "cell_type": "code",
   "execution_count": 328,
   "metadata": {},
   "outputs": [
    {
     "data": {
      "text/plain": [
       "dict_values([310.0, 340.0, 380.0, 302.0, 297.0, 323.0])"
      ]
     },
     "execution_count": 328,
     "metadata": {},
     "output_type": "execute_result"
    }
   ],
   "source": [
    "stock_prices.values()"
   ]
  },
  {
   "cell_type": "code",
   "execution_count": 329,
   "metadata": {},
   "outputs": [
    {
     "name": "stdout",
     "output_type": "stream",
     "text": [
      "Help on built-in function ord in module builtins:\n",
      "\n",
      "ord(c, /)\n",
      "    Return the Unicode code point for a one-character string.\n",
      "\n"
     ]
    }
   ],
   "source": [
    "help(ord)"
   ]
  },
  {
   "cell_type": "code",
   "execution_count": 330,
   "metadata": {},
   "outputs": [],
   "source": [
    "def hash_function(key):\n",
    "    h=0\n",
    "    for char in key:\n",
    "        h+=ord(char)\n",
    "        ### Ord find ascii value for that character\n",
    "    return h%100    "
   ]
  },
  {
   "cell_type": "code",
   "execution_count": 390,
   "metadata": {},
   "outputs": [
    {
     "data": {
      "text/plain": [
       "59"
      ]
     },
     "execution_count": 390,
     "metadata": {},
     "output_type": "execute_result"
    }
   ],
   "source": [
    "hash_function(\"march 17\")"
   ]
  },
  {
   "cell_type": "code",
   "execution_count": 413,
   "metadata": {},
   "outputs": [],
   "source": [
    "class HashTable:\n",
    "    \n",
    "    def __init__(self):\n",
    "        self.size=100\n",
    "        self.arr=[None for i in range(self.size)]\n",
    "        \n",
    "    def hash_function(self,key):\n",
    "        h=0\n",
    "        for char in key:\n",
    "            h+=ord(char)\n",
    "            ### ord find ascii value for that character\n",
    "        return h%100     \n",
    "    \n",
    "    def __setitem__(self,key,val):\n",
    "        h=self.hash_function(key)\n",
    "        self.arr[h]=val\n",
    "    \n",
    "    def __getitem__(self,key):\n",
    "        h=self.hash_function(key)\n",
    "        return self.arr[h]\n",
    "   \n",
    "    def __delitem__(self,key):\n",
    "        h=self.hash_function(key)\n",
    "        self.arr[h]=None\n",
    "    "
   ]
  },
  {
   "cell_type": "code",
   "execution_count": 414,
   "metadata": {},
   "outputs": [
    {
     "data": {
      "text/plain": [
       "100"
      ]
     },
     "execution_count": 414,
     "metadata": {},
     "output_type": "execute_result"
    }
   ],
   "source": [
    "t=HashTable()\n",
    "t[\"march 6\"]=250\n",
    "t[\"march 7\"]=260\n",
    "t[\"march 8\"]=300\n",
    "t[\"dec 17\"]=100\n",
    "t[\"dec 17\"]"
   ]
  },
  {
   "cell_type": "code",
   "execution_count": 415,
   "metadata": {},
   "outputs": [],
   "source": [
    "del t[\"dec 17\"]"
   ]
  },
  {
   "cell_type": "code",
   "execution_count": 416,
   "metadata": {},
   "outputs": [],
   "source": [
    "t[\"dec 17\"]"
   ]
  },
  {
   "cell_type": "markdown",
   "metadata": {},
   "source": [
    "## Dictionary"
   ]
  },
  {
   "cell_type": "code",
   "execution_count": 13,
   "metadata": {},
   "outputs": [],
   "source": [
    "d={}\n",
    "x,y,z=10,20,30\n",
    "d[x,y,z]=x+y-z\n",
    "d[\"i\"]=x-y+z"
   ]
  },
  {
   "cell_type": "code",
   "execution_count": 37,
   "metadata": {},
   "outputs": [],
   "source": [
    "###Sum of dictionary elements\n",
    "def f(d):\n",
    "    s=0\n",
    "    for i in d.values():\n",
    "        s=s+i\n",
    "    return s    "
   ]
  },
  {
   "cell_type": "code",
   "execution_count": 41,
   "metadata": {},
   "outputs": [],
   "source": [
    "d={'a': 100, 'b':200, 'c':300}\n",
    "f(d)\n",
    "del d['b']"
   ]
  },
  {
   "cell_type": "code",
   "execution_count": 42,
   "metadata": {},
   "outputs": [
    {
     "data": {
      "text/plain": [
       "{'a': 100, 'c': 300}"
      ]
     },
     "execution_count": 42,
     "metadata": {},
     "output_type": "execute_result"
    }
   ],
   "source": [
    "d"
   ]
  },
  {
   "cell_type": "code",
   "execution_count": 218,
   "metadata": {},
   "outputs": [],
   "source": [
    "## Election Winner\n",
    "votes=[\"john\", \"johnny\", \"jackie\", \n",
    "                    \"johnny\", \"john\", \"jackie\", \n",
    "                    \"jamie\", \"jamie\", \"john\",\n",
    "                    \"johnny\", \"jamie\", \"johnny\", \n",
    "                    \"john\",\"rachit\",\"rachit\",\"rachit\",\"rachit\"]"
   ]
  },
  {
   "cell_type": "code",
   "execution_count": 219,
   "metadata": {},
   "outputs": [],
   "source": [
    "def mapping(votes):\n",
    "    d={}\n",
    "    for name in list(set(votes)):\n",
    "        c=0\n",
    "        for names in votes:\n",
    "            if names==name:\n",
    "                c=c+1\n",
    "        d[name]=c \n",
    "    return d\n",
    "\n",
    "def get_key(value):\n",
    "    names=[]\n",
    "    for item in d.items():\n",
    "        if item[1]==value:\n",
    "            names.append(item[0])\n",
    "    return names\n",
    "\n",
    "def find_election_winner(votes):\n",
    "    d={}\n",
    "    d=mapping(votes)\n",
    "    highest_value=sorted(d.values(),reverse=True)[0]\n",
    "    l=get_key(highest_value)\n",
    "    winner=sorted(l)[0]\n",
    "    print(f\"The winner of the election is {winner} with {highest_value} votes\")\n",
    "    \n",
    "    \n"
   ]
  },
  {
   "cell_type": "code",
   "execution_count": 221,
   "metadata": {},
   "outputs": [
    {
     "name": "stdout",
     "output_type": "stream",
     "text": [
      "The winner of the election is john with 4 votes\n"
     ]
    }
   ],
   "source": [
    "find_election_winner(votes)"
   ]
  },
  {
   "cell_type": "code",
   "execution_count": 250,
   "metadata": {},
   "outputs": [],
   "source": [
    "### Number of good pairs\n",
    "\n",
    "def good_pairs(l):\n",
    "    n=len(l)\n",
    "    d={}\n",
    "    for i in range(n):\n",
    "        c=0\n",
    "        for j in range(i+1,n):\n",
    "            if l[i]==l[j]:\n",
    "                c=c+1\n",
    "                d[i,j]=l[i]   \n",
    "    return len(d)"
   ]
  },
  {
   "cell_type": "code",
   "execution_count": 262,
   "metadata": {},
   "outputs": [
    {
     "data": {
      "text/plain": [
       "6"
      ]
     },
     "execution_count": 262,
     "metadata": {},
     "output_type": "execute_result"
    }
   ],
   "source": [
    "l=[1,1,1,1,]\n",
    "good_pairs(l)"
   ]
  },
  {
   "cell_type": "code",
   "execution_count": 267,
   "metadata": {},
   "outputs": [
    {
     "data": {
      "text/plain": [
       "6"
      ]
     },
     "execution_count": 267,
     "metadata": {},
     "output_type": "execute_result"
    }
   ],
   "source": [
    "def faster(l):\n",
    "    c=0\n",
    "    for (key, value) in Counter(l).items():\n",
    "        c=c+(value*(value-1))/2\n",
    "    return(int(c))    \n",
    "        \n",
    "\n",
    "    \n",
    "    \n",
    "faster(l)   "
   ]
  },
  {
   "cell_type": "code",
   "execution_count": 11,
   "metadata": {},
   "outputs": [],
   "source": [
    "### Count primes\n",
    "def check_prime(n):\n",
    "    if n**(0.5)\n",
    "    l=[1 for i in range(2,int(n**(0.5))) if n%i==0]\n",
    "    if len(l)==0: return 1"
   ]
  },
  {
   "cell_type": "code",
   "execution_count": 12,
   "metadata": {},
   "outputs": [],
   "source": [
    "def count_primes(n):\n",
    "    l=[1 for i in range(2,n) if check_prime(i)==1]\n",
    "    return len(l)"
   ]
  },
  {
   "cell_type": "code",
   "execution_count": 14,
   "metadata": {},
   "outputs": [
    {
     "data": {
      "text/plain": [
       "3"
      ]
     },
     "execution_count": 14,
     "metadata": {},
     "output_type": "execute_result"
    }
   ],
   "source": [
    "count_primes(5)"
   ]
  },
  {
   "cell_type": "code",
   "execution_count": 6,
   "metadata": {},
   "outputs": [],
   "source": [
    "##### Longest Dictionary\n",
    "#l=[\"a\", \"banana\", \"app\", \"appl\", \"ap\", \"apply\", \"apple\"]\n",
    "l=[\"w\",\"wo\",\"wor\",\"worl\", \"world\"]\n",
    "#l=[\"ogz\",\"eyj\",\"e\",\"ey\",\"hmn\",\"v\",\"hm\",\"ogznkb\",\"ogzn\",\"hmnm\",\"eyjuo\",\"vuq\",\"ogznk\",\"og\",\"eyjuoi\",\"d\"]\n",
    "s=\"app\"\n",
    "n=len(s)\n",
    "c=0\n",
    "### Funtion to check if it can be made from the list\n",
    "def check(s):\n",
    "    c=0\n",
    "    s1=s\n",
    "    while len(s)>0:\n",
    "        if s[:-1] in l:\n",
    "            c=c+1\n",
    "        s=s[:-1]\n",
    "    if c==len(s1)-1:\n",
    "        return c\n",
    "    else:\n",
    "        return 0\n",
    "    \n",
    "    \n",
    "d={}\n",
    "### function to achieve words to check    \n",
    "for words in l:\n",
    "    d[words]=check(words)\n",
    "    \n",
    "\n",
    "def get_key(value):\n",
    "    names=[]\n",
    "    for item in d.items():\n",
    "        if item[1]==value:\n",
    "            names.append(item[0])\n",
    "    return names"
   ]
  },
  {
   "cell_type": "code",
   "execution_count": 7,
   "metadata": {},
   "outputs": [
    {
     "data": {
      "text/plain": [
       "'world'"
      ]
     },
     "execution_count": 7,
     "metadata": {},
     "output_type": "execute_result"
    }
   ],
   "source": [
    "highest=sorted(d.values(),reverse=True)[0]\n",
    "sorted(get_key(highest))[0]\n"
   ]
  },
  {
   "cell_type": "code",
   "execution_count": 45,
   "metadata": {},
   "outputs": [],
   "source": [
    "l=[\"ogz\",\"eyj\",\"e\",\"ey\",\"hmn\",\"v\",\"hm\",\"ogznkb\",\"ogzn\",\"hmnm\",\"eyjuo\",\"vuq\",\"ogznk\",\"og\",\"eyjuoi\",\"d\"]"
   ]
  },
  {
   "cell_type": "code",
   "execution_count": 65,
   "metadata": {},
   "outputs": [],
   "source": [
    "### Jewels and Stones\n",
    "j=\"z\"\n",
    "S=\"ZZZ\"\n",
    "c=0\n",
    "for char in S:\n",
    "    if char in j:\n",
    "        c=c+1"
   ]
  },
  {
   "cell_type": "code",
   "execution_count": 286,
   "metadata": {},
   "outputs": [
    {
     "data": {
      "text/plain": [
       "[2, 0, 4, 0, 4, 3]"
      ]
     },
     "execution_count": 286,
     "metadata": {},
     "output_type": "execute_result"
    }
   ],
   "source": [
    "# smaller than current number\n",
    "from collections import Counter\n",
    "nums=[5,0,10,0,10,6]\n",
    "n=len(nums)\n",
    "nums_sorted=sorted(nums)\n",
    "d,f={},[]\n",
    "for key,value in Counter(nums).items():\n",
    "    if value!=1:\n",
    "        d[key]=len(sorted(list(filter(lambda a:a<key,nums))))\n",
    "    else:\n",
    "        d[key]=nums_sorted.index(key)\n",
    "for i in range(n):\n",
    "        f.append(d[nums[i]]) \n",
    "f        \n",
    "\n",
    "\n",
    "key"
   ]
  },
  {
   "cell_type": "markdown",
   "metadata": {},
   "source": [
    "## Graph Data Structure"
   ]
  },
  {
   "cell_type": "code",
   "execution_count": 108,
   "metadata": {},
   "outputs": [],
   "source": [
    "class Graph:\n",
    "    \n",
    "    def __init__(self,nodes,is_directed=False):\n",
    "        self.nodes=nodes\n",
    "        self.adj_list={}\n",
    "        self.is_directed=is_directed\n",
    "        for node in self.nodes:\n",
    "            self.adj_list[node]=[]\n",
    "   \n",
    "\n",
    "    def print_adj(self):\n",
    "        for node in self.nodes:\n",
    "            print(node,\"=>\",self.adj_list[node])\n",
    "        return\n",
    "    \n",
    "    def add_edge(self,u,v):\n",
    "        if self.is_directed:\n",
    "            self.adj_list[u].append(v)\n",
    "        else:\n",
    "            self.adj_list[u].append(v)\n",
    "            self.adj_list[v].append(u)\n",
    "       \n",
    "    \n",
    "    def degree(self,node):\n",
    "        return len(self.adj_list[node])\n",
    "        \n",
    "       "
   ]
  },
  {
   "cell_type": "code",
   "execution_count": 113,
   "metadata": {},
   "outputs": [
    {
     "name": "stdout",
     "output_type": "stream",
     "text": [
      "A => []\n",
      "B => []\n",
      "C => []\n",
      "D => []\n",
      "E => []\n"
     ]
    }
   ],
   "source": [
    "nodes=[\"A\",\"B\",\"C\",\"D\",\"E\"]\n",
    "graph=Graph(nodes,True)\n",
    "graph.print_adj()"
   ]
  },
  {
   "cell_type": "code",
   "execution_count": 114,
   "metadata": {},
   "outputs": [
    {
     "name": "stdout",
     "output_type": "stream",
     "text": [
      "A => ['B', 'C']\n",
      "B => ['D', 'E']\n",
      "C => ['D']\n",
      "D => ['E']\n",
      "E => []\n"
     ]
    }
   ],
   "source": [
    "all_edges=[(\"A\",\"B\"),(\"A\",\"C\"),(\"C\",\"D\"),(\"B\",\"D\"),(\"B\",\"E\"),(\"D\",\"E\")]\n",
    "for (u,v) in all_edges:\n",
    "    graph.add_edge(u,v)\n",
    "\n",
    "graph.print_adj()"
   ]
  },
  {
   "cell_type": "code",
   "execution_count": 115,
   "metadata": {},
   "outputs": [
    {
     "data": {
      "text/plain": [
       "1"
      ]
     },
     "execution_count": 115,
     "metadata": {},
     "output_type": "execute_result"
    }
   ],
   "source": [
    "graph.degree(\"C\")"
   ]
  },
  {
   "cell_type": "code",
   "execution_count": 90,
   "metadata": {},
   "outputs": [],
   "source": [
    "### Sequential Digits\n",
    "\n",
    "l=[]\n",
    "for k in range(1,10):\n",
    "    for i in range(k,10):\n",
    "        s=\"\"\n",
    "        for j in range(k,i+1):\n",
    "            s+=str(j)\n",
    "            l.append(int(s))\n",
    "        "
   ]
  },
  {
   "cell_type": "code",
   "execution_count": 91,
   "metadata": {},
   "outputs": [],
   "source": [
    "l=(list((l)))"
   ]
  },
  {
   "cell_type": "code",
   "execution_count": 92,
   "metadata": {},
   "outputs": [
    {
     "data": {
      "text/plain": [
       "[1,\n",
       " 1,\n",
       " 1,\n",
       " 1,\n",
       " 1,\n",
       " 1,\n",
       " 1,\n",
       " 1,\n",
       " 1,\n",
       " 2,\n",
       " 2,\n",
       " 2,\n",
       " 2,\n",
       " 2,\n",
       " 2,\n",
       " 2,\n",
       " 2,\n",
       " 3,\n",
       " 3,\n",
       " 3,\n",
       " 3,\n",
       " 3,\n",
       " 3,\n",
       " 3,\n",
       " 4,\n",
       " 4,\n",
       " 4,\n",
       " 4,\n",
       " 4,\n",
       " 4,\n",
       " 5,\n",
       " 5,\n",
       " 5,\n",
       " 5,\n",
       " 5,\n",
       " 6,\n",
       " 6,\n",
       " 6,\n",
       " 6,\n",
       " 7,\n",
       " 7,\n",
       " 7,\n",
       " 8,\n",
       " 8,\n",
       " 9,\n",
       " 12,\n",
       " 12,\n",
       " 12,\n",
       " 12,\n",
       " 12,\n",
       " 12,\n",
       " 12,\n",
       " 12,\n",
       " 23,\n",
       " 23,\n",
       " 23,\n",
       " 23,\n",
       " 23,\n",
       " 23,\n",
       " 23,\n",
       " 34,\n",
       " 34,\n",
       " 34,\n",
       " 34,\n",
       " 34,\n",
       " 34,\n",
       " 45,\n",
       " 45,\n",
       " 45,\n",
       " 45,\n",
       " 45,\n",
       " 56,\n",
       " 56,\n",
       " 56,\n",
       " 56,\n",
       " 67,\n",
       " 67,\n",
       " 67,\n",
       " 78,\n",
       " 78,\n",
       " 89,\n",
       " 123,\n",
       " 123,\n",
       " 123,\n",
       " 123,\n",
       " 123,\n",
       " 123,\n",
       " 123,\n",
       " 234,\n",
       " 234,\n",
       " 234,\n",
       " 234,\n",
       " 234,\n",
       " 234,\n",
       " 345,\n",
       " 345,\n",
       " 345,\n",
       " 345,\n",
       " 345,\n",
       " 456,\n",
       " 456,\n",
       " 456,\n",
       " 456,\n",
       " 567,\n",
       " 567,\n",
       " 567,\n",
       " 678,\n",
       " 678,\n",
       " 789,\n",
       " 1234,\n",
       " 1234,\n",
       " 1234,\n",
       " 1234,\n",
       " 1234,\n",
       " 1234,\n",
       " 2345,\n",
       " 2345,\n",
       " 2345,\n",
       " 2345,\n",
       " 2345,\n",
       " 3456,\n",
       " 3456,\n",
       " 3456,\n",
       " 3456,\n",
       " 4567,\n",
       " 4567,\n",
       " 4567,\n",
       " 5678,\n",
       " 5678,\n",
       " 6789,\n",
       " 12345,\n",
       " 12345,\n",
       " 12345,\n",
       " 12345,\n",
       " 12345,\n",
       " 23456,\n",
       " 23456,\n",
       " 23456,\n",
       " 23456,\n",
       " 34567,\n",
       " 34567,\n",
       " 34567,\n",
       " 45678,\n",
       " 45678,\n",
       " 56789,\n",
       " 123456,\n",
       " 123456,\n",
       " 123456,\n",
       " 123456,\n",
       " 234567,\n",
       " 234567,\n",
       " 234567,\n",
       " 345678,\n",
       " 345678,\n",
       " 456789,\n",
       " 1234567,\n",
       " 1234567,\n",
       " 1234567,\n",
       " 2345678,\n",
       " 2345678,\n",
       " 3456789,\n",
       " 12345678,\n",
       " 12345678,\n",
       " 23456789,\n",
       " 123456789]"
      ]
     },
     "execution_count": 92,
     "metadata": {},
     "output_type": "execute_result"
    }
   ],
   "source": [
    "l=sorted(l)\n",
    "l"
   ]
  },
  {
   "cell_type": "code",
   "execution_count": 85,
   "metadata": {},
   "outputs": [],
   "source": [
    "low=10\n",
    "high=1000000000\n",
    "for number in l:\n",
    "    if number>low:\n",
    "        lb=l.index(number)\n",
    "        break\n",
    "for number in l:\n",
    "    if number>high:\n",
    "        ub=l.index(number)-1\n",
    "        break"
   ]
  },
  {
   "cell_type": "code",
   "execution_count": 86,
   "metadata": {},
   "outputs": [
    {
     "data": {
      "text/plain": [
       "[1,\n",
       " 2,\n",
       " 3,\n",
       " 4,\n",
       " 5,\n",
       " 6,\n",
       " 7,\n",
       " 8,\n",
       " 9,\n",
       " 12,\n",
       " 23,\n",
       " 34,\n",
       " 45,\n",
       " 56,\n",
       " 67,\n",
       " 78,\n",
       " 89,\n",
       " 123,\n",
       " 234,\n",
       " 345,\n",
       " 456,\n",
       " 567,\n",
       " 678,\n",
       " 789,\n",
       " 1234,\n",
       " 2345,\n",
       " 3456,\n",
       " 4567,\n",
       " 5678,\n",
       " 6789,\n",
       " 12345,\n",
       " 23456,\n",
       " 34567,\n",
       " 45678,\n",
       " 56789,\n",
       " 123456,\n",
       " 234567,\n",
       " 345678,\n",
       " 456789,\n",
       " 1234567,\n",
       " 2345678,\n",
       " 3456789,\n",
       " 12345678,\n",
       " 23456789,\n",
       " 123456789]"
      ]
     },
     "execution_count": 86,
     "metadata": {},
     "output_type": "execute_result"
    }
   ],
   "source": [
    "l"
   ]
  },
  {
   "cell_type": "code",
   "execution_count": null,
   "metadata": {},
   "outputs": [],
   "source": [
    "num = []\n",
    "for x in range(1,9):\n",
    "    while x <= high:\n",
    "        r = x % 10\n",
    "\n",
    "        if r == 0:\n",
    "            break\n",
    "\n",
    "        if x >= low:\n",
    "            num.append(x)\n",
    "                    "
   ]
  },
  {
   "cell_type": "code",
   "execution_count": 72,
   "metadata": {},
   "outputs": [
    {
     "data": {
      "text/plain": [
       "[1,\n",
       " 2,\n",
       " 3,\n",
       " 4,\n",
       " 5,\n",
       " 6,\n",
       " 7,\n",
       " 8,\n",
       " 9,\n",
       " 12,\n",
       " 23,\n",
       " 34,\n",
       " 45,\n",
       " 56,\n",
       " 67,\n",
       " 78,\n",
       " 89,\n",
       " 123,\n",
       " 234,\n",
       " 345,\n",
       " 456,\n",
       " 567,\n",
       " 678,\n",
       " 789,\n",
       " 1234,\n",
       " 2345,\n",
       " 3456,\n",
       " 4567,\n",
       " 5678,\n",
       " 6789,\n",
       " 12345,\n",
       " 23456,\n",
       " 34567,\n",
       " 45678,\n",
       " 56789,\n",
       " 123456,\n",
       " 234567,\n",
       " 345678,\n",
       " 456789,\n",
       " 1234567,\n",
       " 2345678,\n",
       " 3456789,\n",
       " 12345678,\n",
       " 23456789,\n",
       " 123456789]"
      ]
     },
     "execution_count": 72,
     "metadata": {},
     "output_type": "execute_result"
    }
   ],
   "source": [
    "l"
   ]
  },
  {
   "cell_type": "code",
   "execution_count": 76,
   "metadata": {},
   "outputs": [],
   "source": [
    "for number in l:\n",
    "    if number>high:\n",
    "        ub=l.index(number)-1\n",
    "        break\n",
    "    else:\n",
    "        ub=len(l)-1"
   ]
  },
  {
   "cell_type": "code",
   "execution_count": 77,
   "metadata": {},
   "outputs": [
    {
     "data": {
      "text/plain": [
       "44"
      ]
     },
     "execution_count": 77,
     "metadata": {},
     "output_type": "execute_result"
    }
   ],
   "source": [
    "ub"
   ]
  },
  {
   "cell_type": "code",
   "execution_count": 85,
   "metadata": {},
   "outputs": [],
   "source": [
    "### Gas Station\n",
    "gas  = [2,3,4]\n",
    "cost = [3,4,3]\n",
    "\n",
    "start=[x-y for x,y in zip(gas,cost)]\n",
    "n=len(gas)\n",
    "for i,w in enumerate(start):\n",
    "    if w>=0:\n",
    "        g=gas[i:]+gas[:i]\n",
    "        c=cost[i:]+cost[:i]\n",
    "        k,x=0,0\n",
    "        for j in range(n):\n",
    "            l=g[j]-c[j]\n",
    "            if(l+k)>=0:\n",
    "                x=x+1\n",
    "            k=l+k\n",
    "        if x==n:\n",
    "            print(x)\n",
    "            break\n"
   ]
  },
  {
   "cell_type": "code",
   "execution_count": 89,
   "metadata": {},
   "outputs": [
    {
     "name": "stdout",
     "output_type": "stream",
     "text": [
      "-1\n",
      "-1\n",
      "1\n"
     ]
    }
   ],
   "source": [
    "for x,y in (zip(gas,cost)):\n",
    "    print(x-y)"
   ]
  },
  {
   "cell_type": "code",
   "execution_count": 50,
   "metadata": {},
   "outputs": [
    {
     "name": "stdout",
     "output_type": "stream",
     "text": [
      "1\n"
     ]
    }
   ],
   "source": [
    "for i,w in enumerate(start):\n",
    "    if w>=0:\n",
    "        print(w)"
   ]
  },
  {
   "cell_type": "code",
   "execution_count": null,
   "metadata": {},
   "outputs": [],
   "source": []
  }
 ],
 "metadata": {
  "kernelspec": {
   "display_name": "Python 3",
   "language": "python",
   "name": "python3"
  },
  "language_info": {
   "codemirror_mode": {
    "name": "ipython",
    "version": 3
   },
   "file_extension": ".py",
   "mimetype": "text/x-python",
   "name": "python",
   "nbconvert_exporter": "python",
   "pygments_lexer": "ipython3",
   "version": "3.7.6"
  }
 },
 "nbformat": 4,
 "nbformat_minor": 4
}
